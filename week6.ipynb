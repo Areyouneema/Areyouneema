{
  "nbformat": 4,
  "nbformat_minor": 0,
  "metadata": {
    "colab": {
      "provenance": [],
      "authorship_tag": "ABX9TyN3Jf4iQvzTaiSeBuoh2CyQ",
      "include_colab_link": true
    },
    "kernelspec": {
      "name": "python3",
      "display_name": "Python 3"
    },
    "language_info": {
      "name": "python"
    }
  },
  "cells": [
    {
      "cell_type": "markdown",
      "metadata": {
        "id": "view-in-github",
        "colab_type": "text"
      },
      "source": [
        "<a href=\"https://colab.research.google.com/github/Areyouneema/Areyouneema/blob/main/week6.ipynb\" target=\"_parent\"><img src=\"https://colab.research.google.com/assets/colab-badge.svg\" alt=\"Open In Colab\"/></a>"
      ]
    },
    {
      "cell_type": "code",
      "execution_count": 1,
      "metadata": {
        "id": "F92tvEv0opCo"
      },
      "outputs": [],
      "source": [
        "\n",
        "import numpy as np\n",
        "import pandas as pd\n",
        "from sklearn.datasets import load_breast_cancer\n",
        "from sklearn.model_selection import train_test_split, GridSearchCV, RandomizedSearchCV\n",
        "from sklearn.preprocessing import StandardScaler\n",
        "from sklearn.metrics import accuracy_score, precision_score, recall_score, f1_score, classification_report\n",
        "from sklearn.linear_model import LogisticRegression\n",
        "from sklearn.ensemble import RandomForestClassifier\n",
        "from sklearn.svm import SVC\n",
        "from sklearn.neighbors import KNeighborsClassifier\n",
        "import warnings\n",
        "warnings.filterwarnings(\"ignore\")\n"
      ]
    },
    {
      "cell_type": "code",
      "source": [
        "\n",
        "data = load_breast_cancer()\n",
        "X = pd.DataFrame(data.data, columns=data.feature_names)\n",
        "y = pd.Series(data.target)\n",
        "\n",
        "X_train, X_test, y_train, y_test = train_test_split(X, y, test_size=0.2, random_state=42)\n",
        "\n",
        "scaler = StandardScaler()\n",
        "X_train = scaler.fit_transform(X_train)\n",
        "X_test = scaler.transform(X_test)\n"
      ],
      "metadata": {
        "id": "m0NIafCRpPh1"
      },
      "execution_count": 2,
      "outputs": []
    },
    {
      "cell_type": "code",
      "source": [
        "\n",
        "models = {\n",
        "    'Logistic Regression': LogisticRegression(),\n",
        "    'Random Forest': RandomForestClassifier(),\n",
        "    'SVC': SVC(),\n",
        "    'KNN': KNeighborsClassifier()\n",
        "}\n",
        "\n",
        "def evaluate_model(name, model):\n",
        "    model.fit(X_train, y_train)\n",
        "    y_pred = model.predict(X_test)\n",
        "    print(f\"----- {name} -----\")\n",
        "    print(\"Accuracy :\", accuracy_score(y_test, y_pred))\n",
        "    print(\"Precision:\", precision_score(y_test, y_pred))\n",
        "    print(\"Recall   :\", recall_score(y_test, y_pred))\n",
        "    print(\"F1 Score :\", f1_score(y_test, y_pred))\n",
        "    print()\n"
      ],
      "metadata": {
        "id": "foVmukhjpQv9"
      },
      "execution_count": 3,
      "outputs": []
    },
    {
      "cell_type": "code",
      "source": [
        "\n",
        "for name, model in models.items():\n",
        "    evaluate_model(name, model)\n"
      ],
      "metadata": {
        "colab": {
          "base_uri": "https://localhost:8080/"
        },
        "id": "-Ca1w5lCpa83",
        "outputId": "542f0920-2d5d-4391-bce7-ee14c9569968"
      },
      "execution_count": 4,
      "outputs": [
        {
          "output_type": "stream",
          "name": "stdout",
          "text": [
            "----- Logistic Regression -----\n",
            "Accuracy : 0.9736842105263158\n",
            "Precision: 0.9722222222222222\n",
            "Recall   : 0.9859154929577465\n",
            "F1 Score : 0.9790209790209791\n",
            "\n",
            "----- Random Forest -----\n",
            "Accuracy : 0.9649122807017544\n",
            "Precision: 0.958904109589041\n",
            "Recall   : 0.9859154929577465\n",
            "F1 Score : 0.9722222222222222\n",
            "\n",
            "----- SVC -----\n",
            "Accuracy : 0.9824561403508771\n",
            "Precision: 0.9726027397260274\n",
            "Recall   : 1.0\n",
            "F1 Score : 0.9861111111111112\n",
            "\n",
            "----- KNN -----\n",
            "Accuracy : 0.9473684210526315\n",
            "Precision: 0.9577464788732394\n",
            "Recall   : 0.9577464788732394\n",
            "F1 Score : 0.9577464788732394\n",
            "\n"
          ]
        }
      ]
    },
    {
      "cell_type": "code",
      "source": [
        "#Hyperparameter tuning\n",
        "# RandomizedSearchCV for Random Forest\n",
        "from scipy.stats import randint\n",
        "\n",
        "param_dist = {\n",
        "    'n_estimators': randint(10, 200),\n",
        "    'max_depth': randint(1, 20),\n",
        "    'min_samples_split': randint(2, 10)\n",
        "}\n",
        "\n",
        "rf = RandomForestClassifier()\n",
        "rand_search = RandomizedSearchCV(rf, param_distributions=param_dist, n_iter=20, cv=5, scoring='f1', random_state=42)\n",
        "rand_search.fit(X_train, y_train)\n",
        "\n",
        "# Best Random Forest\n",
        "best_rf = rand_search.best_estimator_\n",
        "evaluate_model(\"Random Forest (RandomizedSearchCV)\", best_rf)\n"
      ],
      "metadata": {
        "colab": {
          "base_uri": "https://localhost:8080/"
        },
        "id": "pcDXNbj_pgBm",
        "outputId": "386e20e5-bd35-4df5-d6f2-75abe84ed7f4"
      },
      "execution_count": 5,
      "outputs": [
        {
          "output_type": "stream",
          "name": "stdout",
          "text": [
            "----- Random Forest (RandomizedSearchCV) -----\n",
            "Accuracy : 0.9649122807017544\n",
            "Precision: 0.958904109589041\n",
            "Recall   : 0.9859154929577465\n",
            "F1 Score : 0.9722222222222222\n",
            "\n"
          ]
        }
      ]
    },
    {
      "cell_type": "code",
      "source": [
        "#GridsearchCV for SVM\n",
        "param_grid = {\n",
        "    'C': [0.1, 1, 10],\n",
        "    'kernel': ['linear', 'rbf'],\n",
        "    'gamma': ['scale', 'auto']\n",
        "}\n",
        "\n",
        "svc = SVC()\n",
        "grid_search = GridSearchCV(svc, param_grid, cv=5, scoring='f1')\n",
        "grid_search.fit(X_train, y_train)\n",
        "\n",
        "# Best SVM\n",
        "best_svc = grid_search.best_estimator_\n",
        "evaluate_model(\"SVC (GridSearchCV)\", best_svc)\n"
      ],
      "metadata": {
        "colab": {
          "base_uri": "https://localhost:8080/"
        },
        "id": "adS26uZTppUb",
        "outputId": "8b7ad086-7e7e-4c2f-a1f5-a9e5f4e86daf"
      },
      "execution_count": 6,
      "outputs": [
        {
          "output_type": "stream",
          "name": "stdout",
          "text": [
            "----- SVC (GridSearchCV) -----\n",
            "Accuracy : 0.9824561403508771\n",
            "Precision: 0.9726027397260274\n",
            "Recall   : 1.0\n",
            "F1 Score : 0.9861111111111112\n",
            "\n"
          ]
        }
      ]
    },
    {
      "cell_type": "code",
      "source": [
        "print(\"Best Random Forest Params:\", rand_search.best_params_)\n",
        "print(\"Best SVC Params:\", grid_search.best_params_)\n"
      ],
      "metadata": {
        "id": "sCoTmvqMp97Z",
        "outputId": "e9d1fd4c-d5b8-4758-b335-389e0e5abb3f",
        "colab": {
          "base_uri": "https://localhost:8080/"
        }
      },
      "execution_count": 7,
      "outputs": [
        {
          "output_type": "stream",
          "name": "stdout",
          "text": [
            "Best Random Forest Params: {'max_depth': 6, 'min_samples_split': 3, 'n_estimators': 197}\n",
            "Best SVC Params: {'C': 1, 'gamma': 'scale', 'kernel': 'rbf'}\n"
          ]
        }
      ]
    }
  ]
}